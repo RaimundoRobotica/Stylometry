{
 "cells": [
  {
   "cell_type": "markdown",
   "metadata": {},
   "source": [
    "# Estilometría\n",
    "\n",
    "En este notebook se va a probar el funcionamiento de las clases __Text__ y __Corpus__."
   ]
  },
  {
   "cell_type": "code",
   "execution_count": 1,
   "metadata": {},
   "outputs": [],
   "source": [
    "\n",
    "from src.classes import Text, Corpus\n",
    "from src.read_data import create_text_list"
   ]
  },
  {
   "cell_type": "markdown",
   "metadata": {},
   "source": [
    "# Análisis de un corpus de varias novelas\n",
    "A continuación se van a cargar varias novelas de las que se desconoce el autor en algunas de ellas"
   ]
  },
  {
   "cell_type": "code",
   "execution_count": 2,
   "metadata": {},
   "outputs": [],
   "source": [
    "# Creación de la lista de novelas\n",
    "lista_novelas = create_text_list()"
   ]
  },
  {
   "cell_type": "code",
   "execution_count": 3,
   "metadata": {},
   "outputs": [],
   "source": [
    "# Creación de la clase Corpus\n",
    "corpus = Corpus(lista_novelas)"
   ]
  },
  {
   "cell_type": "code",
   "execution_count": 4,
   "metadata": {},
   "outputs": [],
   "source": [
    "df = corpus.corpus_content()"
   ]
  },
  {
   "cell_type": "code",
   "execution_count": 15,
   "metadata": {},
   "outputs": [
    {
     "name": "stdout",
     "output_type": "stream",
     "text": [
      "                    title               author             prediction  tokens\n",
      "0     Fortunata y Jacinta  Benito Pérez Galdós   [Emilia Pardo Bazán]  469256\n",
      "1                  Gerona  Benito Pérez Galdós  [Benito Pérez Galdós]   71742\n",
      "2   La corte de Carlos IV  Benito Pérez Galdós  [Benito Pérez Galdós]   81242\n",
      "3           La de Bringas  Benito Pérez Galdós   [Emilia Pardo Bazán]   83676\n",
      "4               Marianela  Benito Pérez Galdós   [Emilia Pardo Bazán]   60722\n",
      "5            Misericordia  Benito Pérez Galdós   [Emilia Pardo Bazán]  100143\n",
      "6   Napoleón en Chamartín  Benito Pérez Galdós          [Juan Valera]   90710\n",
      "7               Trafalgar  Benito Pérez Galdós          [Juan Valera]   59558\n",
      "8               La prueba   Emilia Pardo Bazán  [Benito Pérez Galdós]   74508\n",
      "9              La tribuna   Emilia Pardo Bazán  [Benito Pérez Galdós]   77267\n",
      "10     Los pazos de Ulloa   Emilia Pardo Bazán   [Emilia Pardo Bazán]   98456\n",
      "11     Un viaje de novios   Emilia Pardo Bazán   [Emilia Pardo Bazán]   82121\n",
      "12          Una cristiana   Emilia Pardo Bazán   [Emilia Pardo Bazán]   69259\n",
      "13           Algo de todo          Juan Valera          [Juan Valera]   65231\n",
      "14      De varios colores          Juan Valera          [Juan Valera]   61936\n",
      "15               Doña_luz          Juan Valera          [Juan Valera]   68220\n",
      "16         Genio y figura          Juan Valera          [Juan Valera]   59908\n",
      "17       Juanita_la_Larga          Juan Valera          [Juan Valera]   81442\n",
      "18               Morsamor          Juan Valera          [Juan Valera]   94424\n",
      "19       Pasarse de listo          Juan Valera          [Juan Valera]   58722\n"
     ]
    }
   ],
   "source": [
    "print(corpus.train_dt(n=1000, max_depth=2, random_state=42))"
   ]
  },
  {
   "cell_type": "code",
   "execution_count": 6,
   "metadata": {},
   "outputs": [
    {
     "data": {
      "text/plain": [
       "\"for i in range(1,10):\\n    df = corpus.train_knn(k=i, n=2000)\\n    print(f'k = {i}')\\n    print(df[df['author'] == df['prediction']]['prediction'].count())\""
      ]
     },
     "execution_count": 6,
     "metadata": {},
     "output_type": "execute_result"
    }
   ],
   "source": [
    "'''for i in range(1,10):\n",
    "    df = corpus.train_knn(k=i, n=2000)\n",
    "    print(f'k = {i}')\n",
    "    print(df[df['author'] == df['prediction']]['prediction'].count())'''"
   ]
  },
  {
   "cell_type": "code",
   "execution_count": 7,
   "metadata": {},
   "outputs": [
    {
     "data": {
      "text/plain": [
       "'print(corpus.train_svc(kernel = \"poly\", degree=3, coef0=1, C=100000))'"
      ]
     },
     "execution_count": 7,
     "metadata": {},
     "output_type": "execute_result"
    }
   ],
   "source": [
    "'''print(corpus.train_svc(kernel = \"poly\", degree=3, coef0=1, C=100000))'''"
   ]
  },
  {
   "cell_type": "code",
   "execution_count": 8,
   "metadata": {},
   "outputs": [],
   "source": [
    "#print(corpus.train_clustering(n=1000, n_clusters=3, n_init=10, random_state=42))"
   ]
  },
  {
   "cell_type": "code",
   "execution_count": 9,
   "metadata": {},
   "outputs": [],
   "source": [
    "#print(corpus.train_knn(k=5))"
   ]
  },
  {
   "cell_type": "code",
   "execution_count": 10,
   "metadata": {},
   "outputs": [],
   "source": [
    "#print(corpus.train_knn(k=7))"
   ]
  },
  {
   "cell_type": "markdown",
   "metadata": {},
   "source": [
    "### Bibliografía:\n",
    "\n",
    "- de la Rosa, Javier; Suárez, Juan Luis. “The Life of Lazarillo de Tormes and of His Machine Learning Adversities,” _Lemir_, vol. 20 (2016), pp. 373-438, https://dialnet.unirioja.es/servlet/articulo?codigo=5762415. \n",
    "- Laramée, François Dominic, \"Introduction to stylometry with Python,\" _Programming Historian_ 7 (2018), https://doi.org/10.46430/phen0078.\n",
    "- Rice, Justin.  “What Makes Hemingway Hemingway? A statistical analysis of the data behind Hemingway’s style”, The LitCharts Blog, 2018, https://www.litcharts.com/blog/analitics/what-makes-hemingway/.\n",
    "\n",
    "- Savoy, Jacques. _Machine Learning Methods for Stylometry. Authorship Attribution and Author Profiling_, Springer, Cham (Suiza), 2020."
   ]
  }
 ],
 "metadata": {
  "kernelspec": {
   "display_name": "Python 3",
   "language": "python",
   "name": "python3"
  },
  "language_info": {
   "codemirror_mode": {
    "name": "ipython",
    "version": 3
   },
   "file_extension": ".py",
   "mimetype": "text/x-python",
   "name": "python",
   "nbconvert_exporter": "python",
   "pygments_lexer": "ipython3",
   "version": "3.11.3"
  }
 },
 "nbformat": 4,
 "nbformat_minor": 2
}
